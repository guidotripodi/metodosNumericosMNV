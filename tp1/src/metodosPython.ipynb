{
 "cells": [
  {
   "cell_type": "code",
   "execution_count": 41,
   "metadata": {},
   "outputs": [],
   "source": [
    "import numpy as np\n",
    "import pandas as pd\n",
    "\n",
    "class Instancia():\n",
    "    def __init__(self,csvfile):\n",
    "        self._equipos=0\n",
    "        self._partidos=0\n",
    "        self._cmm = None\n",
    "        self.mass=None\n",
    "        self.diferencia=None\n",
    "        self.ganados = None\n",
    "        self.totales = None\n",
    "        f = open(csvfile, \"r\")\n",
    "        i=0\n",
    "        for line in list(f):\n",
    "            if i == 0: # header\n",
    "                i+=1\n",
    "                columns = line.split()\n",
    "                self._equipos = int(columns[0])\n",
    "                self._partidos = int(columns[1])\n",
    "                self._cmm = np.empty([self._equipos,self._equipos])\n",
    "                self.ganados= np.empty([self._equipos,self._equipos])\n",
    "                self.totales = np.zeros(self._equipos)\n",
    "                self.diferencias = np.zeros(self._equipos)\n",
    "                for i in range(0,self._equipos):\n",
    "                    for j in range(0,self._equipos):\n",
    "                        self.ganados[i,j]=0.0\n",
    "            else:\n",
    "                data = line.split();\n",
    "                print(data)\n",
    "#                     set_trace()\n",
    "                self.totales[int(data[1])-1]+=1\n",
    "                self.totales[int(data[3])-1]+=1\n",
    "                self.diferencias[int(data[1])-1]+=int(data[2])\n",
    "\n",
    "                self.diferencias[int(data[1])-1]-=int(data[4])\n",
    "\n",
    "\n",
    "                self.diferencias[int(data[3])-1]+=int(data[4])\n",
    "\n",
    "                self.diferencias[int(data[3])-1]-=int(data[2])\n",
    "\n",
    "                if(int(data[2])>int(data[4])):\n",
    "                    self.ganados[int(data[1])-1,int(data[3])-1] +=1\n",
    "                else:\n",
    "                    self.ganados[int(data[3])-1,int(data[1])-1] +=1\n",
    "                    \n",
    "    def equipos(self):\n",
    "        return self._equipos\n",
    "    def partidos(self):\n",
    "        return self._partidos\n",
    "    def cmm(self):\n",
    "        return self._cmm\n",
    "    def wp(self):\n",
    "        wp = np.zeros(self._equipos)\n",
    "        for i in range(0,self._equipos):\n",
    "            wp[i]=sum(self.ganados[i])/self.totales[i]\n",
    "        \n",
    "        return wp\n",
    "import math\n",
    "\n",
    "\n",
    "def forward_elimination(A, b, n):\n",
    "    \"\"\"\n",
    "    Calculates the forward part of Gaussian elimination.\n",
    "    \"\"\"\n",
    "    for row in range(0, n-1):\n",
    "        for i in range(row+1, n):\n",
    "            factor = A[i,row] / A[row,row]\n",
    "            for j in range(row, n):\n",
    "                A[i,j] = A[i,j] - factor * A[row,j]\n",
    "\n",
    "            b[i] = b[i] - factor * b[row]\n",
    "\n",
    "        print('A = \\n%s and b = %s' % (A,b))\n",
    "    return A, b\n",
    "\n",
    "def back_substitution(a, b, n):\n",
    "    \"\"\"\"\n",
    "    Does back substitution, returns the Gauss result.\n",
    "    \"\"\"\n",
    "    x = np.zeros((n,1))\n",
    "    x[n-1] = b[n-1] / a[n-1, n-1]\n",
    "    for row in range(n-2, -1, -1):\n",
    "        sums = b[row]\n",
    "        for j in range(row+1, n):\n",
    "            sums = sums - a[row,j] * x[j]\n",
    "        x[row] = sums / a[row,row]\n",
    "    return x\n",
    "\n",
    "def gauss(A, b):\n",
    "    \"\"\"\n",
    "    This function performs Gauss elimination without pivoting.\n",
    "    \"\"\"\n",
    "    n = A.shape[0]\n",
    "\n",
    "    # Check for zero diagonal elements\n",
    "    if any(np.diag(A)==0):\n",
    "        raise ZeroDivisionError(('Division by zero will occur; '\n",
    "                                  'pivoting currently not supported'))\n",
    "    \n",
    "    A, b = forward_elimination(A, b, n)\n",
    "    return back_substitution(A, b, n)"
   ]
  },
  {
   "cell_type": "code",
   "execution_count": 42,
   "metadata": {},
   "outputs": [
    {
     "name": "stdout",
     "output_type": "stream",
     "text": [
      "['1', '1', '16', '4', '13']\n",
      "['1', '2', '38', '5', '17']\n",
      "['1', '2', '0', '6', '1']\n",
      "['1', '3', '34', '1', '21']\n",
      "['1', '3', '23', '4', '10']\n",
      "['1', '4', '31', '1', '6']\n",
      "['1', '5', '0', '6', '1']\n",
      "['1', '5', '38', '4', '23']\n",
      "['1', '6', '1', '2', '0']\n",
      "['1', '6', '1', '5', '0']\n",
      "['1', '4', '1', '6', '0']\n",
      "['1', '3', '1', '1', '0']\n",
      "['1', '3', '1', '2', '0']\n"
     ]
    }
   ],
   "source": [
    "ins = Instancia(\"tests/test1.in\")"
   ]
  },
  {
   "cell_type": "code",
   "execution_count": 48,
   "metadata": {},
   "outputs": [
    {
     "data": {
      "text/plain": [
       "13"
      ]
     },
     "execution_count": 48,
     "metadata": {},
     "output_type": "execute_result"
    }
   ],
   "source": [
    "ins.partidos()"
   ]
  },
  {
   "cell_type": "code",
   "execution_count": 53,
   "metadata": {},
   "outputs": [
    {
     "data": {
      "text/plain": [
       "array([4., 4., 4., 5., 4., 5.])"
      ]
     },
     "execution_count": 53,
     "metadata": {},
     "output_type": "execute_result"
    }
   ],
   "source": [
    "ins.totales"
   ]
  },
  {
   "cell_type": "code",
   "execution_count": 52,
   "metadata": {},
   "outputs": [
    {
     "data": {
      "text/plain": [
       "array([[0., 0., 0., 1., 0., 0.],\n",
       "       [0., 0., 0., 0., 1., 0.],\n",
       "       [2., 1., 0., 1., 0., 0.],\n",
       "       [1., 0., 0., 0., 0., 1.],\n",
       "       [0., 0., 0., 1., 0., 0.],\n",
       "       [0., 2., 0., 0., 2., 0.]])"
      ]
     },
     "execution_count": 52,
     "metadata": {},
     "output_type": "execute_result"
    }
   ],
   "source": [
    "ins.ganados"
   ]
  },
  {
   "cell_type": "code",
   "execution_count": 40,
   "metadata": {},
   "outputs": [],
   "source": [
    "for i in range(0, ins.equipos()):\n",
    "    for j in range(0, ins.equipos()):\n",
    "        if i==j:\n",
    "            ins._cmm[i][j]=  ins.totales[i]+ 2\n",
    "        else:\n",
    "            ins._cmm[i][j]=  (ins.ganados[i][j]+ ins.ganados[j][i])*-1"
   ]
  },
  {
   "cell_type": "code",
   "execution_count": 41,
   "metadata": {},
   "outputs": [
    {
     "data": {
      "text/plain": [
       "array([[ 5., -0., -1., -2., -0., -0.],\n",
       "       [-0.,  5., -0., -0., -1., -2.],\n",
       "       [-1., -0.,  4., -1., -0., -0.],\n",
       "       [-2., -0., -1.,  7., -1., -1.],\n",
       "       [-0., -1., -0., -1.,  6., -2.],\n",
       "       [-0., -2., -0., -1., -2.,  7.]])"
      ]
     },
     "execution_count": 41,
     "metadata": {},
     "output_type": "execute_result"
    }
   ],
   "source": [
    "ins._cmm"
   ]
  },
  {
   "cell_type": "code",
   "execution_count": 42,
   "metadata": {},
   "outputs": [],
   "source": [
    "b = np.zeros(ins.equipos())"
   ]
  },
  {
   "cell_type": "code",
   "execution_count": 47,
   "metadata": {},
   "outputs": [],
   "source": [
    "for i in range(0,ins.equipos()):\n",
    "    ganados =0\n",
    "    for j in range(0,ins.equipos()):\n",
    "        ganados += ins.ganados[i][j]\n",
    "    b[i]= 1+(2*ganados-ins.totales[i])/2"
   ]
  },
  {
   "cell_type": "code",
   "execution_count": 49,
   "metadata": {},
   "outputs": [
    {
     "data": {
      "text/plain": [
       "array([0.25, 0.25, 1.  , 0.4 , 0.25, 0.8 ])"
      ]
     },
     "execution_count": 49,
     "metadata": {},
     "output_type": "execute_result"
    }
   ],
   "source": [
    "ins.wp()"
   ]
  },
  {
   "cell_type": "code",
   "execution_count": 51,
   "metadata": {},
   "outputs": [
    {
     "data": {
      "text/plain": [
       "0.07692307692307693"
      ]
     },
     "execution_count": 51,
     "metadata": {},
     "output_type": "execute_result"
    }
   ],
   "source": [
    "1/13"
   ]
  }
 ],
 "metadata": {
  "kernelspec": {
   "display_name": "Python 3",
   "language": "python",
   "name": "python3"
  },
  "language_info": {
   "codemirror_mode": {
    "name": "ipython",
    "version": 3
   },
   "file_extension": ".py",
   "mimetype": "text/x-python",
   "name": "python",
   "nbconvert_exporter": "python",
   "pygments_lexer": "ipython3",
   "version": "3.7.4"
  }
 },
 "nbformat": 4,
 "nbformat_minor": 2
}
