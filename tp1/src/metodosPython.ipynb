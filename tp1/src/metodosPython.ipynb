{
 "cells": [
  {
   "cell_type": "code",
   "execution_count": 21,
   "metadata": {},
   "outputs": [],
   "source": [
    "import numpy as np\n",
    "import pandas as pd\n",
    "\n",
    "class Instancia():\n",
    "    def __init__(self,csvfile):\n",
    "        self._equipos=0\n",
    "        self._partidos=0\n",
    "        self._cmm = None\n",
    "        self.mass=None\n",
    "        self.diferencia=None\n",
    "        self.ganados = None\n",
    "        self.totales = None\n",
    "        self.ratings=None\n",
    "        f = open(csvfile, \"r\")\n",
    "        i=0\n",
    "        for line in list(f):\n",
    "            if i == 0: # header\n",
    "                i+=1\n",
    "                columns = line.split()\n",
    "                self._equipos = int(columns[0])\n",
    "                self._partidos = int(columns[1])\n",
    "                self._cmm = np.empty([self._equipos,self._equipos])\n",
    "                self.ganados= np.empty([self._equipos,self._equipos])\n",
    "                self.totales = np.zeros(self._equipos)\n",
    "                self.diferencias = np.zeros(self._equipos)\n",
    "                self.ratings = np.ones(self._equipos)*100\n",
    "                for i in range(0,self._equipos):\n",
    "                    for j in range(0,self._equipos):\n",
    "                        self.ganados[i,j]=0.0\n",
    "            else:\n",
    "                data = line.split();\n",
    "                print(data)\n",
    "#                     set_trace()\n",
    "                equipo1=int(data[1])-1\n",
    "                goles1=int(data[2])-1\n",
    "                equipo2=int(data[3])-1\n",
    "                goles2=int(data[4])-1\n",
    "                self.totales[int(data[1])-1]+=1\n",
    "                self.totales[int(data[3])-1]+=1\n",
    "                self.diferencias[int(data[1])-1]+=int(data[2])\n",
    "\n",
    "                self.diferencias[int(data[1])-1]-=int(data[4])\n",
    "\n",
    "\n",
    "                self.diferencias[int(data[3])-1]+=int(data[4])\n",
    "\n",
    "                self.diferencias[int(data[3])-1]-=int(data[2])\n",
    "                \n",
    "                r1= self.getEloRating(equipo1,equipo2,goles1,goles2,True)\n",
    "                r2 =self.getEloRating(equipo2,equipo1,goles2,goles1)\n",
    "                \n",
    "                self.ratings[equipo1]=r1\n",
    "                self.ratings[equipo2]=r2\n",
    "                print(self.ratings)\n",
    "                if(int(data[2])>int(data[4])):\n",
    "                    self.ganados[int(data[1])-1,int(data[3])-1] +=1\n",
    "                else:\n",
    "                    self.ganados[int(data[3])-1,int(data[1])-1] +=1\n",
    "    def getEloRating(self,equipo1,equipo2,goles1,goles2,esLocal=False,K=60):\n",
    "        r0_1 = self.ratings[equipo1]\n",
    "        r0_2 = self.ratings[equipo2]\n",
    "        \n",
    "        df1 = int(goles1-goles2)\n",
    "#         print(df1)\n",
    "        G =0\n",
    "        if df1==0 or df1==1:\n",
    "            G=1\n",
    "        elif df1 == 2:\n",
    "            G = 1.5\n",
    "        else:\n",
    "            G=(11+ abs(df1))/8\n",
    "#         print(\"G \"+str(G))\n",
    "#         // W is the result of the game (1 for a win, 0.5 for a draw, and 0 for a loss).\n",
    "        W=0\n",
    "        if df1==0:\n",
    "            W=0.5;\n",
    "        elif df1>0:\n",
    "            W=1;\n",
    "\n",
    "#         print(\"W \"+str(W))\n",
    "\n",
    "#         // W_e = 1 / (10^(-dr/400) + 1)\n",
    "        dr=.0;\n",
    "        if esLocal :\n",
    "            dr = (r0_1-r0_2+100)*-1;\n",
    "        else:\n",
    "            dr = (r0_1-r0_2)*-1;\n",
    "    \n",
    "#         print(\"dr \"+str(dr))\n",
    "        W_e = 1 / (pow(10,(dr/400)) + 1);\n",
    "#         print(\"WE \"+str(W_e))\n",
    "        print(G*(W-W_e))\n",
    "        return r0_1+ G*(W-W_e);\n",
    "\n",
    "    def equipos(self):\n",
    "        return self._equipos\n",
    "    def partidos(self):\n",
    "        return self._partidos\n",
    "    def cmm(self):\n",
    "        return self._cmm\n",
    "    def wp(self):\n",
    "        wp = np.zeros(self._equipos)\n",
    "        for i in range(0,self._equipos):\n",
    "            wp[i]=sum(self.ganados[i])/self.totales[i]\n",
    "        \n",
    "        return wp\n",
    "import math\n",
    "\n",
    "\n",
    "def forward_elimination(A, b, n):\n",
    "    \"\"\"\n",
    "    Calculates the forward part of Gaussian elimination.\n",
    "    \"\"\"\n",
    "    for row in range(0, n-1):\n",
    "        for i in range(row+1, n):\n",
    "            factor = A[i,row] / A[row,row]\n",
    "            for j in range(row, n):\n",
    "                A[i,j] = A[i,j] - factor * A[row,j]\n",
    "\n",
    "            b[i] = b[i] - factor * b[row]\n",
    "\n",
    "        print('A = \\n%s and b = %s' % (A,b))\n",
    "    return A, b\n",
    "\n",
    "def back_substitution(a, b, n):\n",
    "    \"\"\"\"\n",
    "    Does back substitution, returns the Gauss result.\n",
    "    \"\"\"\n",
    "    x = np.zeros((n,1))\n",
    "    x[n-1] = b[n-1] / a[n-1, n-1]\n",
    "    for row in range(n-2, -1, -1):\n",
    "        sums = b[row]\n",
    "        for j in range(row+1, n):\n",
    "            sums = sums - a[row,j] * x[j]\n",
    "        x[row] = sums / a[row,row]\n",
    "    return x\n",
    "\n",
    "def gauss(A, b):\n",
    "    \"\"\"\n",
    "    This function performs Gauss elimination without pivoting.\n",
    "    \"\"\"\n",
    "    n = A.shape[0]\n",
    "\n",
    "    # Check for zero diagonal elements\n",
    "    if any(np.diag(A)==0):\n",
    "        raise ZeroDivisionError(('Division by zero will occur; '\n",
    "                                  'pivoting currently not supported'))\n",
    "    \n",
    "    A, b = forward_elimination(A, b, n)\n",
    "    return back_substitution(A, b, n)"
   ]
  },
  {
   "cell_type": "code",
   "execution_count": 22,
   "metadata": {},
   "outputs": [
    {
     "name": "stdout",
     "output_type": "stream",
     "text": [
      "['1', '1', '0', '4', '1']\n",
      "-0.9600974997043277\n",
      "0.5\n",
      "[ 99.0399025 100.        100.        100.5       100.        100.       ]\n",
      "['1', '2', '1', '5', '0']\n",
      "0.3599350001971149\n",
      "-0.75\n",
      "[ 99.0399025 100.359935  100.        100.5        99.25      100.       ]\n",
      "['1', '2', '1', '3', '0']\n",
      "0.3594577987373362\n",
      "-0.7492230181224325\n",
      "[ 99.0399025  100.7193928   99.25077698 100.5         99.25\n",
      " 100.        ]\n",
      "['1', '3', '20', '1', '19']\n",
      "0.35965538936162245\n",
      "-0.7495447908954751\n",
      "[ 98.29035771 100.7193928   99.61043237 100.5         99.25\n",
      " 100.        ]\n",
      "['1', '6', '0', '4', '1']\n",
      "-0.9591024610854519\n",
      "0.4992804426551867\n",
      "[ 98.29035771 100.7193928   99.61043237 100.99928044  99.25\n",
      "  99.04089754]\n",
      "['1', '4', '1', '1', '0']\n",
      "0.35635037160528893\n",
      "-0.7441524387093263\n",
      "[ 97.54620527 100.7193928   99.61043237 101.35563081  99.25\n",
      "  99.04089754]\n",
      "['1', '5', '40', '6', '0']\n",
      "2.292818083516525\n",
      "-3.1855816184581864\n",
      "[ 97.54620527 100.7193928   99.61043237 101.35563081 101.54281808\n",
      "  95.85531592]\n"
     ]
    }
   ],
   "source": [
    "ins = Instancia(\"tests/tests_nuestros/difGolGrandeElo.in\")"
   ]
  },
  {
   "cell_type": "code",
   "execution_count": 48,
   "metadata": {},
   "outputs": [
    {
     "data": {
      "text/plain": [
       "13"
      ]
     },
     "execution_count": 48,
     "metadata": {},
     "output_type": "execute_result"
    }
   ],
   "source": [
    "ins.partidos()"
   ]
  },
  {
   "cell_type": "code",
   "execution_count": 53,
   "metadata": {},
   "outputs": [
    {
     "data": {
      "text/plain": [
       "array([4., 4., 4., 5., 4., 5.])"
      ]
     },
     "execution_count": 53,
     "metadata": {},
     "output_type": "execute_result"
    }
   ],
   "source": [
    "ins.totales"
   ]
  },
  {
   "cell_type": "code",
   "execution_count": 52,
   "metadata": {},
   "outputs": [
    {
     "data": {
      "text/plain": [
       "array([[0., 0., 0., 1., 0., 0.],\n",
       "       [0., 0., 0., 0., 1., 0.],\n",
       "       [2., 1., 0., 1., 0., 0.],\n",
       "       [1., 0., 0., 0., 0., 1.],\n",
       "       [0., 0., 0., 1., 0., 0.],\n",
       "       [0., 2., 0., 0., 2., 0.]])"
      ]
     },
     "execution_count": 52,
     "metadata": {},
     "output_type": "execute_result"
    }
   ],
   "source": [
    "ins.ganados"
   ]
  },
  {
   "cell_type": "code",
   "execution_count": 40,
   "metadata": {},
   "outputs": [],
   "source": [
    "for i in range(0, ins.equipos()):\n",
    "    for j in range(0, ins.equipos()):\n",
    "        if i==j:\n",
    "            ins._cmm[i][j]=  ins.totales[i]+ 2\n",
    "        else:\n",
    "            ins._cmm[i][j]=  (ins.ganados[i][j]+ ins.ganados[j][i])*-1"
   ]
  },
  {
   "cell_type": "code",
   "execution_count": 41,
   "metadata": {},
   "outputs": [
    {
     "data": {
      "text/plain": [
       "array([[ 5., -0., -1., -2., -0., -0.],\n",
       "       [-0.,  5., -0., -0., -1., -2.],\n",
       "       [-1., -0.,  4., -1., -0., -0.],\n",
       "       [-2., -0., -1.,  7., -1., -1.],\n",
       "       [-0., -1., -0., -1.,  6., -2.],\n",
       "       [-0., -2., -0., -1., -2.,  7.]])"
      ]
     },
     "execution_count": 41,
     "metadata": {},
     "output_type": "execute_result"
    }
   ],
   "source": [
    "ins._cmm"
   ]
  },
  {
   "cell_type": "code",
   "execution_count": 42,
   "metadata": {},
   "outputs": [],
   "source": [
    "b = np.zeros(ins.equipos())"
   ]
  },
  {
   "cell_type": "code",
   "execution_count": 47,
   "metadata": {},
   "outputs": [],
   "source": [
    "for i in range(0,ins.equipos()):\n",
    "    ganados =0\n",
    "    for j in range(0,ins.equipos()):\n",
    "        ganados += ins.ganados[i][j]\n",
    "    b[i]= 1+(2*ganados-ins.totales[i])/2"
   ]
  },
  {
   "cell_type": "code",
   "execution_count": 49,
   "metadata": {},
   "outputs": [
    {
     "data": {
      "text/plain": [
       "array([0.25, 0.25, 1.  , 0.4 , 0.25, 0.8 ])"
      ]
     },
     "execution_count": 49,
     "metadata": {},
     "output_type": "execute_result"
    }
   ],
   "source": [
    "ins.wp()"
   ]
  },
  {
   "cell_type": "code",
   "execution_count": 14,
   "metadata": {},
   "outputs": [
    {
     "data": {
      "text/plain": [
       "array([ 97.9545954 , 100.7193928 ,  99.73534947, 101.35600703,\n",
       "       101.66811263, 101.01233891])"
      ]
     },
     "execution_count": 14,
     "metadata": {},
     "output_type": "execute_result"
    }
   ],
   "source": [
    "ins.ratings"
   ]
  },
  {
   "cell_type": "code",
   "execution_count": 79,
   "metadata": {},
   "outputs": [
    {
     "data": {
      "text/plain": [
       "array([2., 2., 2., 2., 2., 2., 2.])"
      ]
     },
     "execution_count": 79,
     "metadata": {},
     "output_type": "execute_result"
    }
   ],
   "source": [
    "np.ones(7)*2"
   ]
  },
  {
   "cell_type": "code",
   "execution_count": null,
   "metadata": {},
   "outputs": [],
   "source": []
  }
 ],
 "metadata": {
  "kernelspec": {
   "display_name": "Python 3",
   "language": "python",
   "name": "python3"
  },
  "language_info": {
   "codemirror_mode": {
    "name": "ipython",
    "version": 3
   },
   "file_extension": ".py",
   "mimetype": "text/x-python",
   "name": "python",
   "nbconvert_exporter": "python",
   "pygments_lexer": "ipython3",
   "version": "3.7.4"
  }
 },
 "nbformat": 4,
 "nbformat_minor": 2
}
