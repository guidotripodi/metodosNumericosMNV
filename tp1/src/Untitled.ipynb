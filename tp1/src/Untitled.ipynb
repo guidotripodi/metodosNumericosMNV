{
 "cells": [
  {
   "cell_type": "code",
   "execution_count": 34,
   "metadata": {},
   "outputs": [],
   "source": [
    "import numpy as np\n",
    "import pandas as pd\n",
    "\n",
    "class Instancia():\n",
    "    def __init__(self,csvfile):\n",
    "        self._equipos=0\n",
    "        self._partidos=0\n",
    "        self._cmm = None\n",
    "        self.mass=None\n",
    "        self.diferencia=None\n",
    "        self.ganados = None\n",
    "        self.totales = None\n",
    "        with open(csvfile) as f:\n",
    "            lines = f.read().split('\\n')[:-1]\n",
    "            for i, line in enumerate(lines):\n",
    "                if i == 0: # header\n",
    "                    columns = line.split()\n",
    "                    self._equipos = int(columns[0])\n",
    "                    self._partidos = int(columns[1])\n",
    "                    self._cmm = np.empty([self._equipos,self._equipos])\n",
    "                    self.mass = np.empty([self._equipos,self._equipos])\n",
    "                    self.ganados= np.empty([self._equipos,self._equipos])\n",
    "                    self.totales = np.zeros(self._equipos)\n",
    "                    self.diferencias = np.zeros(self._equipos)\n",
    "                    for i in range(0,self._equipos):\n",
    "                        for j in range(0,self._equipos):\n",
    "                            self.ganados[i,j]=0.0\n",
    "                else:\n",
    "                    data = line.split();\n",
    "                    print(data)\n",
    "#                     set_trace()\n",
    "                    self.totales[int(data[1])-1]+=1\n",
    "                    self.totales[int(data[3])-1]+=1\n",
    "        \n",
    "                    self.diferencias[int(data[1])-1]+=int(data[2])\n",
    "                    self.diferencias[int(data[1])-1]-=int(data[4])\n",
    "                    \n",
    "                    \n",
    "                    self.diferencias[int(data[3])-1]+=int(data[4])\n",
    "                    self.diferencias[int(data[3])-1]-=int(data[2])\n",
    "                    \n",
    "                    if(int(data[2])>int(data[4])):\n",
    "                        self.ganados[int(data[1])-1,int(data[3])-1] +=1\n",
    "                    else:\n",
    "                        self.ganados[int(data[3])-1,int(data[1])-1] +=1\n",
    "                    \n",
    "    def equipos(self):\n",
    "        return self._equipos\n",
    "    def partidos(self):\n",
    "        return self._partidos\n",
    "    def cmm(self):\n",
    "        return self._cmm"
   ]
  },
  {
   "cell_type": "code",
   "execution_count": 35,
   "metadata": {},
   "outputs": [
    {
     "name": "stdout",
     "output_type": "stream",
     "text": [
      "['1', '1', '16', '4', '13']\n",
      "['1', '2', '38', '5', '17']\n",
      "['1', '2', '0', '6', '1']\n",
      "['1', '3', '34', '1', '21']\n",
      "['1', '3', '23', '4', '10']\n",
      "['1', '4', '31', '1', '6']\n",
      "['1', '5', '0', '6', '1']\n",
      "['1', '5', '38', '4', '23']\n",
      "['1', '6', '1', '2', '0']\n",
      "['1', '6', '1', '5', '0']\n",
      "['1', '4', '1', '6', '0']\n",
      "['1', '5', '1', '6', '0']\n"
     ]
    }
   ],
   "source": [
    "ins = Instancia(\"tests/test-prob-2.in\")\n",
    "            "
   ]
  },
  {
   "cell_type": "code",
   "execution_count": 36,
   "metadata": {},
   "outputs": [
    {
     "data": {
      "text/plain": [
       "12"
      ]
     },
     "execution_count": 36,
     "metadata": {},
     "output_type": "execute_result"
    }
   ],
   "source": [
    "ins.partidos()"
   ]
  },
  {
   "cell_type": "code",
   "execution_count": 37,
   "metadata": {},
   "outputs": [
    {
     "data": {
      "text/plain": [
       "array([-35.,  19.,  26.,  -5.,  -7.,   2.])"
      ]
     },
     "execution_count": 37,
     "metadata": {},
     "output_type": "execute_result"
    }
   ],
   "source": [
    "ins.diferencias"
   ]
  },
  {
   "cell_type": "code",
   "execution_count": 38,
   "metadata": {},
   "outputs": [
    {
     "data": {
      "text/plain": [
       "array([3., 3., 2., 5., 5., 6.])"
      ]
     },
     "execution_count": 38,
     "metadata": {},
     "output_type": "execute_result"
    }
   ],
   "source": [
    "ins.totales"
   ]
  },
  {
   "cell_type": "code",
   "execution_count": 39,
   "metadata": {},
   "outputs": [],
   "source": [
    "for i in range(0, ins.equipos()):\n",
    "    for j in range(0, ins.equipos()):\n",
    "        if i==j:\n",
    "            ins._cmm[i][j]=  ins.totales[i]+ 2\n",
    "            ins.mass[i][j]= ins.totales[i]\n",
    "        else:\n",
    "            ins._cmm[i][j]=  (ins.ganados[i][j]+ ins.ganados[j][i])*-1\n",
    "            ins.mass[i][j]= (ins.ganados[i][j]+ ins.ganados[j][i])*-1"
   ]
  },
  {
   "cell_type": "code",
   "execution_count": 40,
   "metadata": {},
   "outputs": [
    {
     "data": {
      "text/plain": [
       "array([[ 5., -0., -1., -2., -0., -0.],\n",
       "       [-0.,  5., -0., -0., -1., -2.],\n",
       "       [-1., -0.,  4., -1., -0., -0.],\n",
       "       [-2., -0., -1.,  7., -1., -1.],\n",
       "       [-0., -1., -0., -1.,  7., -3.],\n",
       "       [-0., -2., -0., -1., -3.,  8.]])"
      ]
     },
     "execution_count": 40,
     "metadata": {},
     "output_type": "execute_result"
    }
   ],
   "source": [
    "ins._cmm"
   ]
  },
  {
   "cell_type": "code",
   "execution_count": 41,
   "metadata": {},
   "outputs": [
    {
     "data": {
      "text/plain": [
       "array([[ 3., -0., -1., -2., -0., -0.],\n",
       "       [-0.,  3., -0., -0., -1., -2.],\n",
       "       [-1., -0.,  2., -1., -0., -0.],\n",
       "       [-2., -0., -1.,  5., -1., -1.],\n",
       "       [-0., -1., -0., -1.,  5., -3.],\n",
       "       [-0., -2., -0., -1., -3.,  6.]])"
      ]
     },
     "execution_count": 41,
     "metadata": {},
     "output_type": "execute_result"
    }
   ],
   "source": [
    "ins.mass"
   ]
  },
  {
   "cell_type": "code",
   "execution_count": 42,
   "metadata": {},
   "outputs": [],
   "source": [
    "b = np.zeros(ins.equipos())"
   ]
  },
  {
   "cell_type": "code",
   "execution_count": 43,
   "metadata": {},
   "outputs": [],
   "source": [
    "for i in range(0,ins.equipos()):\n",
    "    ganados =0\n",
    "    for j in range(0,ins.equipos()):\n",
    "        ganados += ins.ganados[i][j]\n",
    "    b[i]= 1+(2*ganados-ins.totales[i])/2"
   ]
  },
  {
   "cell_type": "code",
   "execution_count": 44,
   "metadata": {},
   "outputs": [
    {
     "data": {
      "text/plain": [
       "array([0.5, 0.5, 2. , 0.5, 0.5, 2. ])"
      ]
     },
     "execution_count": 44,
     "metadata": {},
     "output_type": "execute_result"
    }
   ],
   "source": [
    "b"
   ]
  },
  {
   "cell_type": "code",
   "execution_count": 45,
   "metadata": {},
   "outputs": [],
   "source": [
    "import math\n",
    "\n",
    "\n",
    "def forward_elimination(A, b, n):\n",
    "    \"\"\"\n",
    "    Calculates the forward part of Gaussian elimination.\n",
    "    \"\"\"\n",
    "    for row in range(0, n-1):\n",
    "        for i in range(row+1, n):\n",
    "            factor = A[i,row] / A[row,row]\n",
    "            for j in range(row, n):\n",
    "                A[i,j] = A[i,j] - factor * A[row,j]\n",
    "\n",
    "            b[i] = b[i] - factor * b[row]\n",
    "\n",
    "        print('A = \\n%s and b = %s' % (A,b))\n",
    "    return A, b\n",
    "\n",
    "def back_substitution(a, b, n):\n",
    "    \"\"\"\"\n",
    "    Does back substitution, returns the Gauss result.\n",
    "    \"\"\"\n",
    "    x = np.zeros((n,1))\n",
    "    x[n-1] = b[n-1] / a[n-1, n-1]\n",
    "    for row in range(n-2, -1, -1):\n",
    "        sums = b[row]\n",
    "        for j in range(row+1, n):\n",
    "            sums = sums - a[row,j] * x[j]\n",
    "        x[row] = sums / a[row,row]\n",
    "    return x\n",
    "\n",
    "def gauss(A, b):\n",
    "    \"\"\"\n",
    "    This function performs Gauss elimination without pivoting.\n",
    "    \"\"\"\n",
    "    n = A.shape[0]\n",
    "\n",
    "    # Check for zero diagonal elements\n",
    "    if any(np.diag(A)==0):\n",
    "        raise ZeroDivisionError(('Division by zero will occur; '\n",
    "                                  'pivoting currently not supported'))\n",
    "\n",
    "    A, b = forward_elimination(A, b, n)\n",
    "    return back_substitution(A, b, n)"
   ]
  },
  {
   "cell_type": "code",
   "execution_count": 46,
   "metadata": {},
   "outputs": [
    {
     "name": "stdout",
     "output_type": "stream",
     "text": [
      "A = \n",
      "[[ 3.         -0.         -1.         -2.         -0.         -0.        ]\n",
      " [ 0.          3.         -0.         -0.         -1.         -2.        ]\n",
      " [ 0.         -0.          1.66666667 -1.66666667 -0.         -0.        ]\n",
      " [ 0.         -0.         -1.66666667  3.66666667 -1.         -1.        ]\n",
      " [ 0.         -1.         -0.         -1.          5.         -3.        ]\n",
      " [ 0.         -2.         -0.         -1.         -3.          6.        ]] and b = [-35.          19.          14.33333333 -28.33333333  -7.\n",
      "   2.        ]\n",
      "A = \n",
      "[[ 3.         -0.         -1.         -2.         -0.         -0.        ]\n",
      " [ 0.          3.         -0.         -0.         -1.         -2.        ]\n",
      " [ 0.          0.          1.66666667 -1.66666667 -0.         -0.        ]\n",
      " [ 0.          0.         -1.66666667  3.66666667 -1.         -1.        ]\n",
      " [ 0.          0.         -0.         -1.          4.66666667 -3.66666667]\n",
      " [ 0.          0.         -0.         -1.         -3.66666667  4.66666667]] and b = [-35.          19.          14.33333333 -28.33333333  -0.66666667\n",
      "  14.66666667]\n",
      "A = \n",
      "[[ 3.         -0.         -1.         -2.         -0.         -0.        ]\n",
      " [ 0.          3.         -0.         -0.         -1.         -2.        ]\n",
      " [ 0.          0.          1.66666667 -1.66666667 -0.         -0.        ]\n",
      " [ 0.          0.          0.          2.         -1.         -1.        ]\n",
      " [ 0.          0.          0.         -1.          4.66666667 -3.66666667]\n",
      " [ 0.          0.          0.         -1.         -3.66666667  4.66666667]] and b = [-35.          19.          14.33333333 -14.          -0.66666667\n",
      "  14.66666667]\n",
      "A = \n",
      "[[ 3.         -0.         -1.         -2.         -0.         -0.        ]\n",
      " [ 0.          3.         -0.         -0.         -1.         -2.        ]\n",
      " [ 0.          0.          1.66666667 -1.66666667 -0.         -0.        ]\n",
      " [ 0.          0.          0.          2.         -1.         -1.        ]\n",
      " [ 0.          0.          0.          0.          4.16666667 -4.16666667]\n",
      " [ 0.          0.          0.          0.         -4.16666667  4.16666667]] and b = [-35.          19.          14.33333333 -14.          -7.66666667\n",
      "   7.66666667]\n",
      "A = \n",
      "[[ 3.00000000e+00 -0.00000000e+00 -1.00000000e+00 -2.00000000e+00\n",
      "  -0.00000000e+00 -0.00000000e+00]\n",
      " [ 0.00000000e+00  3.00000000e+00 -0.00000000e+00 -0.00000000e+00\n",
      "  -1.00000000e+00 -2.00000000e+00]\n",
      " [ 0.00000000e+00  0.00000000e+00  1.66666667e+00 -1.66666667e+00\n",
      "  -0.00000000e+00 -0.00000000e+00]\n",
      " [ 0.00000000e+00  0.00000000e+00  0.00000000e+00  2.00000000e+00\n",
      "  -1.00000000e+00 -1.00000000e+00]\n",
      " [ 0.00000000e+00  0.00000000e+00  0.00000000e+00  0.00000000e+00\n",
      "   4.16666667e+00 -4.16666667e+00]\n",
      " [ 0.00000000e+00  0.00000000e+00  0.00000000e+00  0.00000000e+00\n",
      "   0.00000000e+00  1.77635684e-15]] and b = [-3.50000000e+01  1.90000000e+01  1.43333333e+01 -1.40000000e+01\n",
      " -7.66666667e+00  7.99360578e-15]\n"
     ]
    }
   ],
   "source": [
    "eg = gauss(ins.mass,ins.diferencias) "
   ]
  },
  {
   "cell_type": "code",
   "execution_count": 48,
   "metadata": {},
   "outputs": [
    {
     "data": {
      "text/plain": [
       "array([[-12.22],\n",
       "       [ 10.22],\n",
       "       [  5.18],\n",
       "       [ -3.42],\n",
       "       [  2.66],\n",
       "       [  4.5 ]])"
      ]
     },
     "execution_count": 48,
     "metadata": {},
     "output_type": "execute_result"
    }
   ],
   "source": [
    "eg"
   ]
  },
  {
   "cell_type": "code",
   "execution_count": 49,
   "metadata": {},
   "outputs": [
    {
     "name": "stdout",
     "output_type": "stream",
     "text": [
      "A = \n",
      "[[ 5.  -0.  -1.  -2.  -0.  -0. ]\n",
      " [ 0.   5.  -0.  -0.  -1.  -2. ]\n",
      " [ 0.  -0.   3.8 -1.4 -0.  -0. ]\n",
      " [ 0.  -0.  -1.4  6.2 -1.  -1. ]\n",
      " [ 0.  -1.  -0.  -1.   7.  -3. ]\n",
      " [ 0.  -2.  -0.  -1.  -3.   8. ]] and b = [0.5 0.5 2.1 0.7 0.5 2. ]\n",
      "A = \n",
      "[[ 5.  -0.  -1.  -2.  -0.  -0. ]\n",
      " [ 0.   5.  -0.  -0.  -1.  -2. ]\n",
      " [ 0.   0.   3.8 -1.4 -0.  -0. ]\n",
      " [ 0.   0.  -1.4  6.2 -1.  -1. ]\n",
      " [ 0.   0.  -0.  -1.   6.8 -3.4]\n",
      " [ 0.   0.  -0.  -1.  -3.4  7.2]] and b = [0.5 0.5 2.1 0.7 0.6 2.2]\n",
      "A = \n",
      "[[ 5.         -0.         -1.         -2.         -0.         -0.        ]\n",
      " [ 0.          5.         -0.         -0.         -1.         -2.        ]\n",
      " [ 0.          0.          3.8        -1.4        -0.         -0.        ]\n",
      " [ 0.          0.          0.          5.68421053 -1.         -1.        ]\n",
      " [ 0.          0.          0.         -1.          6.8        -3.4       ]\n",
      " [ 0.          0.          0.         -1.         -3.4         7.2       ]] and b = [0.5        0.5        2.1        1.47368421 0.6        2.2       ]\n",
      "A = \n",
      "[[ 5.         -0.         -1.         -2.         -0.         -0.        ]\n",
      " [ 0.          5.         -0.         -0.         -1.         -2.        ]\n",
      " [ 0.          0.          3.8        -1.4        -0.         -0.        ]\n",
      " [ 0.          0.          0.          5.68421053 -1.         -1.        ]\n",
      " [ 0.          0.          0.          0.          6.62407407 -3.57592593]\n",
      " [ 0.          0.          0.          0.         -3.57592593  7.02407407]] and b = [0.5        0.5        2.1        1.47368421 0.85925926 2.45925926]\n",
      "A = \n",
      "[[ 5.         -0.         -1.         -2.         -0.         -0.        ]\n",
      " [ 0.          5.         -0.         -0.         -1.         -2.        ]\n",
      " [ 0.          0.          3.8        -1.4        -0.         -0.        ]\n",
      " [ 0.          0.          0.          5.68421053 -1.         -1.        ]\n",
      " [ 0.          0.          0.          0.          6.62407407 -3.57592593]\n",
      " [ 0.          0.          0.          0.          0.          5.0936539 ]] and b = [0.5        0.5        2.1        1.47368421 0.85925926 2.92311993]\n"
     ]
    }
   ],
   "source": [
    "eg2 = gauss(ins._cmm,b) "
   ]
  },
  {
   "cell_type": "code",
   "execution_count": 50,
   "metadata": {},
   "outputs": [
    {
     "data": {
      "text/plain": [
       "array([[0.41778266],\n",
       "       [0.41745335],\n",
       "       [0.71383095],\n",
       "       [0.43754116],\n",
       "       [0.43951701],\n",
       "       [0.57387486]])"
      ]
     },
     "execution_count": 50,
     "metadata": {},
     "output_type": "execute_result"
    }
   ],
   "source": [
    "eg2"
   ]
  },
  {
   "cell_type": "code",
   "execution_count": 52,
   "metadata": {},
   "outputs": [
    {
     "ename": "NameError",
     "evalue": "name 'team_name_list' is not defined",
     "output_type": "error",
     "traceback": [
      "\u001b[0;31m---------------------------------------------------------------------------\u001b[0m",
      "\u001b[0;31mNameError\u001b[0m                                 Traceback (most recent call last)",
      "\u001b[0;32m<ipython-input-52-6d6786825f77>\u001b[0m in \u001b[0;36m<module>\u001b[0;34m\u001b[0m\n\u001b[1;32m      7\u001b[0m \u001b[0mb\u001b[0m \u001b[0;34m=\u001b[0m \u001b[0mnp\u001b[0m\u001b[0;34m.\u001b[0m\u001b[0mzeros\u001b[0m\u001b[0;34m(\u001b[0m\u001b[0;34m(\u001b[0m\u001b[0;36m6\u001b[0m\u001b[0;34m,\u001b[0m\u001b[0;36m1\u001b[0m\u001b[0;34m)\u001b[0m\u001b[0;34m)\u001b[0m\u001b[0;34m\u001b[0m\u001b[0;34m\u001b[0m\u001b[0m\n\u001b[1;32m      8\u001b[0m \u001b[0;34m\u001b[0m\u001b[0m\n\u001b[0;32m----> 9\u001b[0;31m \u001b[0;32mfor\u001b[0m \u001b[0mk\u001b[0m \u001b[0;32min\u001b[0m \u001b[0mteam_name_list\u001b[0m \u001b[0;34m:\u001b[0m\u001b[0;34m\u001b[0m\u001b[0;34m\u001b[0m\u001b[0m\n\u001b[0m\u001b[1;32m     10\u001b[0m     \u001b[0;31m# find all games team played, win or loss\u001b[0m\u001b[0;34m\u001b[0m\u001b[0;34m\u001b[0m\u001b[0;34m\u001b[0m\u001b[0m\n\u001b[1;32m     11\u001b[0m     \u001b[0mteam_games\u001b[0m \u001b[0;34m=\u001b[0m \u001b[0mreg2011_df\u001b[0m\u001b[0;34m[\u001b[0m\u001b[0;34m(\u001b[0m\u001b[0mreg2011_df\u001b[0m\u001b[0;34m[\u001b[0m\u001b[0;34m'Wteam_name'\u001b[0m\u001b[0;34m]\u001b[0m \u001b[0;34m==\u001b[0m \u001b[0mk\u001b[0m\u001b[0;34m)\u001b[0m \u001b[0;34m|\u001b[0m \u001b[0;34m(\u001b[0m\u001b[0mreg2011_df\u001b[0m\u001b[0;34m[\u001b[0m\u001b[0;34m'Lteam_name'\u001b[0m\u001b[0;34m]\u001b[0m \u001b[0;34m==\u001b[0m \u001b[0mk\u001b[0m\u001b[0;34m)\u001b[0m\u001b[0;34m]\u001b[0m\u001b[0;34m\u001b[0m\u001b[0;34m\u001b[0m\u001b[0m\n",
      "\u001b[0;31mNameError\u001b[0m: name 'team_name_list' is not defined"
     ]
    }
   ],
   "source": [
    "m_row = 0# current row in Massey matrix\n",
    "\n",
    "# also build point differential vector p\n",
    "p = np.zeros((num_teams,1))\n",
    "\n",
    "# Colley approach requires b, win differential basically\n",
    "b = np.zeros((num_teams,1))\n",
    "\n",
    "for k in team_name_list :\n",
    "    # find all games team played, win or loss\n",
    "    team_games = reg2011_df[(reg2011_df['Wteam_name'] == k) | (reg2011_df['Lteam_name'] == k)]\n",
    "    n_team = np.shape(team_games)[0]\n",
    "    # Number of games team played, for diagonal\n",
    "\n",
    "    times_played = np.zeros((1,np.shape(M)[1])) # basically an array for given row in M\n",
    "    \n",
    "    # counter for array indexing\n",
    "    ctr = 0\n",
    "    for j in team_name_list :\n",
    "        if j == k :\n",
    "            # this is the team itself\n",
    "            times_played[0,ctr] = n_team\n",
    "        else :\n",
    "            # Find all matches between team of interest (k) and opponent (j)\n",
    "            matches = team_games[(team_games['Wteam_name'] == j) | (team_games['Lteam_name'] == j)]\n",
    "            times_played[0,ctr] = np.negative(matches.shape[0])\n",
    "        ctr += 1\n",
    "    \n",
    "    # now add current row to M\n",
    "    M[m_row] = times_played\n",
    "    \n",
    "    # add cumulative points to p\n",
    "    # p_wins is point differential in games won by team k\n",
    "    p_wins = np.sum(\\\n",
    "        team_games[team_games['Wteam_name'] == k]['Wscore'] - \\\n",
    "            team_games[team_games['Wteam_name'] == k]['Lscore']\n",
    "    )\n",
    "    # p_losses is point differential in games lost by team k (will be negative)\n",
    "    p_losses = np.sum(\\\n",
    "        team_games[team_games['Lteam_name'] == k]['Lscore'] - \\\n",
    "            team_games[team_games['Lteam_name'] == k]['Wscore']\n",
    "    )\n",
    "    p[m_row] = p_wins + p_losses\n",
    "    \n",
    "    # Now build Colley right-hand side vector b\n",
    "    b[m_row] = 1 + (0.5) * (\\\n",
    "        team_games[team_games['Wteam_name'] == k].shape[0] - \\\n",
    "            team_games[team_games['Lteam_name'] == k].shape[0]\n",
    "    )\n",
    "    \n",
    "    # iterate to next row in M\n",
    "    m_row += 1"
   ]
  },
  {
   "cell_type": "code",
   "execution_count": null,
   "metadata": {},
   "outputs": [],
   "source": []
  }
 ],
 "metadata": {
  "kernelspec": {
   "display_name": "Python 3",
   "language": "python",
   "name": "python3"
  },
  "language_info": {
   "codemirror_mode": {
    "name": "ipython",
    "version": 3
   },
   "file_extension": ".py",
   "mimetype": "text/x-python",
   "name": "python",
   "nbconvert_exporter": "python",
   "pygments_lexer": "ipython3",
   "version": "3.7.4"
  }
 },
 "nbformat": 4,
 "nbformat_minor": 2
}
